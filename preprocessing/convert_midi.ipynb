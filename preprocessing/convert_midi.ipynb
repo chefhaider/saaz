{
 "cells": [
  {
   "cell_type": "code",
   "execution_count": 5,
   "metadata": {},
   "outputs": [
    {
     "ename": "IndexError",
     "evalue": "pop from empty list",
     "output_type": "error",
     "traceback": [
      "\u001b[0;31m---------------------------------------------------------------------------\u001b[0m",
      "\u001b[0;31mIndexError\u001b[0m                                Traceback (most recent call last)",
      "Cell \u001b[0;32mIn[5], line 44\u001b[0m\n\u001b[1;32m     42\u001b[0m \u001b[39m# Write the MIDI file to disk\u001b[39;00m\n\u001b[1;32m     43\u001b[0m \u001b[39mwith\u001b[39;00m \u001b[39mopen\u001b[39m(\u001b[39m'\u001b[39m\u001b[39msample1.mid\u001b[39m\u001b[39m'\u001b[39m, \u001b[39m'\u001b[39m\u001b[39mwb\u001b[39m\u001b[39m'\u001b[39m) \u001b[39mas\u001b[39;00m midi_file_output:\n\u001b[0;32m---> 44\u001b[0m     midi_file\u001b[39m.\u001b[39;49mwriteFile(midi_file_output)\n",
      "File \u001b[0;32m~/anaconda3/envs/saaz/lib/python3.10/site-packages/midiutil/MidiFile.py:1637\u001b[0m, in \u001b[0;36mMIDIFile.writeFile\u001b[0;34m(self, fileHandle)\u001b[0m\n\u001b[1;32m   1634\u001b[0m \u001b[39mself\u001b[39m\u001b[39m.\u001b[39mheader\u001b[39m.\u001b[39mwriteFile(fileHandle)\n\u001b[1;32m   1636\u001b[0m \u001b[39m# Close the tracks and have them create the MIDI event data structures.\u001b[39;00m\n\u001b[0;32m-> 1637\u001b[0m \u001b[39mself\u001b[39;49m\u001b[39m.\u001b[39;49mclose()\n\u001b[1;32m   1639\u001b[0m \u001b[39m# Write the MIDI Events to file.\u001b[39;00m\n\u001b[1;32m   1640\u001b[0m \u001b[39mfor\u001b[39;00m i \u001b[39min\u001b[39;00m \u001b[39mrange\u001b[39m(\u001b[39m0\u001b[39m, \u001b[39mself\u001b[39m\u001b[39m.\u001b[39mnumTracks):\n",
      "File \u001b[0;32m~/anaconda3/envs/saaz/lib/python3.10/site-packages/midiutil/MidiFile.py:1688\u001b[0m, in \u001b[0;36mMIDIFile.close\u001b[0;34m(self)\u001b[0m\n\u001b[1;32m   1685\u001b[0m     \u001b[39mreturn\u001b[39;00m\n\u001b[1;32m   1687\u001b[0m \u001b[39mfor\u001b[39;00m i \u001b[39min\u001b[39;00m \u001b[39mrange\u001b[39m(\u001b[39m0\u001b[39m, \u001b[39mself\u001b[39m\u001b[39m.\u001b[39mnumTracks):\n\u001b[0;32m-> 1688\u001b[0m     \u001b[39mself\u001b[39;49m\u001b[39m.\u001b[39;49mtracks[i]\u001b[39m.\u001b[39;49mcloseTrack()\n\u001b[1;32m   1689\u001b[0m     \u001b[39m# We want things like program changes to come before notes when\u001b[39;00m\n\u001b[1;32m   1690\u001b[0m     \u001b[39m# they are at the same time, so we sort the MIDI events by both\u001b[39;00m\n\u001b[1;32m   1691\u001b[0m     \u001b[39m# their start time and a secondary ordinality defined for each kind\u001b[39;00m\n\u001b[1;32m   1692\u001b[0m     \u001b[39m# of event.\u001b[39;00m\n\u001b[1;32m   1693\u001b[0m     \u001b[39mself\u001b[39m\u001b[39m.\u001b[39mtracks[i]\u001b[39m.\u001b[39mMIDIEventList\u001b[39m.\u001b[39msort(key\u001b[39m=\u001b[39msort_events)\n",
      "File \u001b[0;32m~/anaconda3/envs/saaz/lib/python3.10/site-packages/midiutil/MidiFile.py:826\u001b[0m, in \u001b[0;36mMIDITrack.closeTrack\u001b[0;34m(self)\u001b[0m\n\u001b[1;32m    823\u001b[0m \u001b[39mif\u001b[39;00m \u001b[39mself\u001b[39m\u001b[39m.\u001b[39mremdep:\n\u001b[1;32m    824\u001b[0m     \u001b[39mself\u001b[39m\u001b[39m.\u001b[39mremoveDuplicates()\n\u001b[0;32m--> 826\u001b[0m \u001b[39mself\u001b[39;49m\u001b[39m.\u001b[39;49mprocessEventList()\n",
      "File \u001b[0;32m~/anaconda3/envs/saaz/lib/python3.10/site-packages/midiutil/MidiFile.py:789\u001b[0m, in \u001b[0;36mMIDITrack.processEventList\u001b[0;34m(self)\u001b[0m\n\u001b[1;32m    786\u001b[0m \u001b[39mself\u001b[39m\u001b[39m.\u001b[39mMIDIEventList\u001b[39m.\u001b[39msort(key\u001b[39m=\u001b[39msort_events)\n\u001b[1;32m    788\u001b[0m \u001b[39mif\u001b[39;00m \u001b[39mself\u001b[39m\u001b[39m.\u001b[39mdeinterleave:\n\u001b[0;32m--> 789\u001b[0m     \u001b[39mself\u001b[39;49m\u001b[39m.\u001b[39;49mdeInterleaveNotes()\n",
      "File \u001b[0;32m~/anaconda3/envs/saaz/lib/python3.10/site-packages/midiutil/MidiFile.py:889\u001b[0m, in \u001b[0;36mMIDITrack.deInterleaveNotes\u001b[0;34m(self)\u001b[0m\n\u001b[1;32m    887\u001b[0m             tempEventList\u001b[39m.\u001b[39mappend(event)\n\u001b[1;32m    888\u001b[0m         \u001b[39melse\u001b[39;00m:\n\u001b[0;32m--> 889\u001b[0m             stack[noteeventkey]\u001b[39m.\u001b[39;49mpop()\n\u001b[1;32m    890\u001b[0m             tempEventList\u001b[39m.\u001b[39mappend(event)\n\u001b[1;32m    891\u001b[0m \u001b[39melse\u001b[39;00m:\n",
      "\u001b[0;31mIndexError\u001b[0m: pop from empty list"
     ]
    }
   ],
   "source": [
    "import wave\n",
    "from midiutil import MIDIFile\n",
    "\n",
    "# Open the WAV file\n",
    "with wave.open('sample1.wav', 'rb') as wav_file:\n",
    "    # Get the parameters of the WAV file\n",
    "    nchannels = wav_file.getnchannels()\n",
    "    sampwidth = wav_file.getsampwidth()\n",
    "    framerate = wav_file.getframerate()\n",
    "    nframes = wav_file.getnframes()\n",
    "\n",
    "    # Read the audio data from the WAV file\n",
    "    audio_data = wav_file.readframes(nframes)\n",
    "\n",
    "# Convert the audio data to a list of MIDI events\n",
    "midi_events = []\n",
    "for i in range(0, nframes, nchannels * sampwidth):\n",
    "    frame_data = audio_data[i:i + nchannels * sampwidth]\n",
    "    # Convert the frame data to a MIDI event (pitch, velocity, time)\n",
    "    # and append it to the list of MIDI events\n",
    "    # Note: This is just an example, you may need to adjust the conversion based on your audio data\n",
    "    pitch = int.from_bytes(frame_data[:2], byteorder='little') # Get the first two bytes as pitch\n",
    "    velocity = int.from_bytes(frame_data[2:], byteorder='little') # Get the last two bytes as velocity\n",
    "    time = i / (framerate * 1.0) # Time in seconds\n",
    "    \n",
    "    # Scale the pitch and velocity values to the range 0-127\n",
    "    pitch = int(pitch * 127 / 65535)\n",
    "    velocity = int(velocity * 127 / 65535)\n",
    "    \n",
    "    midi_events.append((pitch, velocity, time))\n",
    "\n",
    "# Create a new MIDI file with one track\n",
    "midi_file = MIDIFile(1)\n",
    "\n",
    "# Set the tempo of the MIDI file\n",
    "midi_file.addTempo(0, 0, 120)\n",
    "\n",
    "# Add the MIDI events to the track\n",
    "for pitch, velocity, time in midi_events:\n",
    "    midi_file.addNote(0, 0, pitch, time, time + 0.1, velocity)\n",
    "\n",
    "# Write the MIDI file to disk\n",
    "with open('sample1.mid', 'wb') as midi_file_output:\n",
    "    midi_file.writeFile(midi_file_output)\n"
   ]
  }
 ],
 "metadata": {
  "kernelspec": {
   "display_name": "Python 3.10.0 ('saaz')",
   "language": "python",
   "name": "python3"
  },
  "language_info": {
   "codemirror_mode": {
    "name": "ipython",
    "version": 3
   },
   "file_extension": ".py",
   "mimetype": "text/x-python",
   "name": "python",
   "nbconvert_exporter": "python",
   "pygments_lexer": "ipython3",
   "version": "3.10.9"
  },
  "orig_nbformat": 4,
  "vscode": {
   "interpreter": {
    "hash": "9658b5ba484556f7e804bf356655af7b6ca66e3daab532442de2c49f4b7cc5ed"
   }
  }
 },
 "nbformat": 4,
 "nbformat_minor": 2
}
