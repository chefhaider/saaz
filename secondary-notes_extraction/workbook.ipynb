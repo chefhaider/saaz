{
 "cells": [
  {
   "cell_type": "code",
   "execution_count": 24,
   "metadata": {},
   "outputs": [
    {
     "name": "stdout",
     "output_type": "stream",
     "text": [
      "MIDI file 'sitar_notes.mid' created successfully.\n"
     ]
    }
   ],
   "source": [
    "import mido\n",
    "from mido import Message, MidiFile, MidiTrack\n",
    "from IPython.display import Audio, display\n",
    "\n",
    "# Create a new MIDI file and add a track\n",
    "midi_file = MidiFile()\n",
    "track = MidiTrack()\n",
    "midi_file.tracks.append(track)\n",
    "\n",
    "# Define a refined list of sitar notes (MIDI note numbers) and durations\n",
    "# Notes for the national anthem of Pakistan (Qaumī Tarānah)\n",
    "sitar_notes = [\n",
    "    (x,480) for x in range(60,72)\n",
    "]\n",
    "\n",
    "# Add a program change message to select a sitar sound (MIDI Program #105 is Sitar)\n",
    "track.append(Message('program_change', program=104, time=0))\n",
    "\n",
    "# Add the notes to the track\n",
    "total_time = 0\n",
    "for note, duration in sitar_notes:\n",
    "    track.append(Message('note_on', note=note, velocity=64, time=total_time))\n",
    "    total_time = duration  # Ensure notes play sequentially\n",
    "    track.append(Message('note_off', note=note, velocity=64, time=total_time))\n",
    "\n",
    "# Save the MIDI file\n",
    "midi_file.save('sitar_notes2.mid')\n",
    "print(\"MIDI file 'sitar_notes.mid' created successfully.\")"
   ]
  },
  {
   "cell_type": "code",
   "execution_count": 47,
   "metadata": {},
   "outputs": [
    {
     "name": "stdout",
     "output_type": "stream",
     "text": [
      "Realistic MIDI file created: raga_yaman_realistic.mid\n"
     ]
    }
   ],
   "source": [
    "from mido import Message, MidiFile, MidiTrack\n",
    "\n",
    "# Create a new MIDI file and track\n",
    "mid = MidiFile()\n",
    "track = MidiTrack()\n",
    "mid.tracks.append(track)\n",
    "\n",
    "# Set the instrument to Sitar (MIDI program 104)\n",
    "track.append(Message('program_change', program=105, time=0))\n",
    "\n",
    "# Raga Yaman melody with added realism\n",
    "notes_with_effects = [\n",
    "    # Format: (note, velocity, duration, pitch_bend)\n",
    "    (60, 64, 400, 0),    # Sa\n",
    "    (62, 70, 400, 300),  # Re (with pitch bend for glide)\n",
    "    (64, 72, 400, 0),    # Ga\n",
    "    (66, 80, 500, -200), # Ma# (with downward glide)\n",
    "    (69, 76, 400, 0),    # Dha\n",
    "    (71, 72, 500, 200),  # Ni (with upward glide)\n",
    "    (72, 80, 600, 0),    # Sa (higher octave)\n",
    "]\n",
    "\n",
    "# Add drone effect (continuous low Sa) for realism\n",
    "drone_note = 48  # Lower Sa (C)\n",
    "drone_velocity = 40\n",
    "drone_duration = 8000  # Long duration for drone\n",
    "track.append(Message('note_on', note=drone_note, velocity=drone_velocity, time=0))\n",
    "track.append(Message('note_off', note=drone_note, velocity=drone_velocity, time=drone_duration))\n",
    "\n",
    "# Add melody notes with effects\n",
    "for note, velocity, duration, pitch_bend in notes_with_effects:\n",
    "    # Add pitch bend before the note\n",
    "    if pitch_bend != 0:\n",
    "        track.append(Message('pitchwheel', pitch=pitch_bend, time=0))\n",
    "    \n",
    "    # Note on\n",
    "    track.append(Message('note_on', note=note, velocity=velocity, time=0))\n",
    "    \n",
    "    # Note off\n",
    "    track.append(Message('note_off', note=note, velocity=velocity, time=duration))\n",
    "\n",
    "# Reset pitch bend to 0\n",
    "track.append(Message('pitchwheel', pitch=0, time=0))\n",
    "\n",
    "# Save the MIDI file\n",
    "mid.save('raga_yaman.mid')\n",
    "\n",
    "\n",
    "print(\"Realistic MIDI file created: raga_yaman_realistic.mid\")\n"
   ]
  },
  {
   "cell_type": "code",
   "execution_count": 48,
   "metadata": {
    "ExecuteTime": {
     "end_time": "2025-01-22T20:00:15.483537Z",
     "start_time": "2025-01-22T20:00:15.421890Z"
    }
   },
   "outputs": [
    {
     "name": "stderr",
     "output_type": "stream",
     "text": [
      "fluidsynth: error: fluid_is_soundfont(): fopen() failed: 'File does not exist.'\n",
      "Parameter '/home/chef-haider/.fluidsynth/default_sound_font.sf2' not a SoundFont or MIDI file or error occurred identifying it.\n"
     ]
    },
    {
     "name": "stdout",
     "output_type": "stream",
     "text": [
      "FluidSynth runtime version 2.3.4\n",
      "Copyright (C) 2000-2023 Peter Hanappe and others.\n",
      "Distributed under the LGPL license.\n",
      "SoundFont(R) is a registered trademark of Creative Technology Ltd.\n",
      "\n",
      "Rendering audio to file 'raga_yaman.wav'..\n"
     ]
    }
   ],
   "source": [
    "from IPython.display import Audio\n",
    "from midi2audio import FluidSynth\n",
    "\n",
    "fs = FluidSynth()\n",
    "fs.midi_to_audio('raga_yaman.mid', 'raga_yaman.wav')\n"
   ]
  },
  {
   "cell_type": "code",
   "execution_count": 51,
   "metadata": {},
   "outputs": [],
   "source": [
    "import csv\n",
    "\n",
    "\n",
    "\n",
    "# Define a refined list of sitar notes (MIDI note numbers) and durations\n",
    "file = \"sitar_midi_data.csv\"\n",
    "current_time = 0\n",
    "tick_to_second = 1/480\n",
    "\n",
    "\n",
    "\n",
    "duration = 480\n",
    "sitar_notes = list()\n",
    "with open(csv_path, mode=\"w\", newline=\"\") as file:\n",
    "    writer = csv.writer(file)\n",
    "    writer.writerow([\"start_time\", \"end_time\", \"MIDI_pitch\"])\n",
    "    for note in range(60,72):\n",
    "        start_time = current_time * tick_to_second\n",
    "        end_time = (current_time + duration) * tick_to_second\n",
    "        writer.writerow([start_time, end_time, note])\n",
    "        current_time += duration\n"
   ]
  }
 ],
 "metadata": {
  "kernelspec": {
   "display_name": "Python 3 (ipykernel)",
   "language": "python",
   "name": "python3"
  },
  "language_info": {
   "codemirror_mode": {
    "name": "ipython",
    "version": 3
   },
   "file_extension": ".py",
   "mimetype": "text/x-python",
   "name": "python",
   "nbconvert_exporter": "python",
   "pygments_lexer": "ipython3",
   "version": "3.12.8"
  }
 },
 "nbformat": 4,
 "nbformat_minor": 4
}
